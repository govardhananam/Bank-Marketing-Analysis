{
  "nbformat": 4,
  "nbformat_minor": 0,
  "metadata": {
    "colab": {
      "name": "Bank Data Analysis.ipynb",
      "provenance": [],
      "collapsed_sections": []
    },
    "language_info": {
      "mimetype": "text/x-python",
      "nbconvert_exporter": "python",
      "version": "3.5.5",
      "name": "python",
      "file_extension": ".py",
      "pygments_lexer": "ipython3",
      "codemirror_mode": {
        "version": 3,
        "name": "ipython"
      }
    },
    "kernelspec": {
      "display_name": "Python 3.5",
      "name": "python3",
      "language": "python"
    }
  },
  "cells": [
    {
      "cell_type": "code",
      "metadata": {
        "colab_type": "code",
        "id": "duCJfMrnGu00",
        "cellView": "code",
        "colab": {
          "base_uri": "https://localhost:8080/",
          "height": 35
        },
        "outputId": "51899be9-25eb-4138-a528-8c1940d4042f"
      },
      "source": [
        "!pip install wget\n",
        "!apt-get install openjdk-8-jdk-headless -qq > /dev/null\n",
        "!wget -q https://archive.apache.org/dist/spark/spark-2.4.0/spark-2.4.0-bin-hadoop2.7.tgz\n",
        "!tar xf spark-2.4.0-bin-hadoop2.7.tgz\n",
        "!pip install -q findspark\n",
        "import os\n",
        "os.environ[\"JAVA_HOME\"] = \"/usr/lib/jvm/java-8-openjdk-amd64\"\n",
        "os.environ[\"SPARK_HOME\"] = \"/content/spark-2.4.0-bin-hadoop2.7\""
      ],
      "execution_count": null,
      "outputs": [
        {
          "output_type": "stream",
          "text": [
            "Requirement already satisfied: wget in /usr/local/lib/python3.6/dist-packages (3.2)\n"
          ],
          "name": "stdout"
        }
      ]
    },
    {
      "cell_type": "code",
      "metadata": {
        "colab_type": "code",
        "id": "aGOo805LA-fM",
        "colab": {
          "base_uri": "https://localhost:8080/",
          "height": 253
        },
        "outputId": "79eac33e-71bc-4776-be86-aac301a8feee"
      },
      "source": [
        "!pip install findspark\n",
        "!pip install pyspark\n",
        "import findspark\n",
        "findspark.init()\n",
        "from pyspark.sql import SparkSession \n",
        "from pyspark import SparkContext\n",
        "sc = SparkContext.getOrCreate()\n",
        "from pyspark.sql import SQLContext\n",
        "sqlContext = SQLContext(sc)\n",
        "sqlContext\n",
        "sc   "
      ],
      "execution_count": null,
      "outputs": [
        {
          "output_type": "stream",
          "text": [
            "Requirement already satisfied: findspark in /usr/local/lib/python3.6/dist-packages (1.3.0)\n",
            "Requirement already satisfied: pyspark in /usr/local/lib/python3.6/dist-packages (2.4.3)\n",
            "Requirement already satisfied: py4j==0.10.7 in /usr/local/lib/python3.6/dist-packages (from pyspark) (0.10.7)\n"
          ],
          "name": "stdout"
        },
        {
          "output_type": "execute_result",
          "data": {
            "text/html": [
              "\n",
              "        <div>\n",
              "            <p><b>SparkContext</b></p>\n",
              "\n",
              "            <p><a href=\"http://e9bbb8d0d5b6:4041\">Spark UI</a></p>\n",
              "\n",
              "            <dl>\n",
              "              <dt>Version</dt>\n",
              "                <dd><code>v2.4.0</code></dd>\n",
              "              <dt>Master</dt>\n",
              "                <dd><code>local[*]</code></dd>\n",
              "              <dt>AppName</dt>\n",
              "                <dd><code>ml-bank</code></dd>\n",
              "            </dl>\n",
              "        </div>\n",
              "        "
            ],
            "text/plain": [
              "<SparkContext master=local[*] appName=ml-bank>"
            ]
          },
          "metadata": {
            "tags": []
          },
          "execution_count": 86
        }
      ]
    },
    {
      "cell_type": "code",
      "metadata": {
        "id": "EADPspOv0Auh",
        "colab_type": "code",
        "colab": {}
      },
      "source": [
        "import wget\n",
        "link_to_data = 'https://github.com/tulip-lab/sit742/raw/master/Assessment/2019/data/bank.csv'\n",
        "DataSet = wget.download(link_to_data)"
      ],
      "execution_count": null,
      "outputs": []
    },
    {
      "cell_type": "code",
      "metadata": {
        "id": "tiM-PiiR0Aup",
        "colab_type": "code",
        "colab": {
          "base_uri": "https://localhost:8080/",
          "height": 126
        },
        "outputId": "29e986a5-afcd-494d-eec6-7cfd56eb9df3"
      },
      "source": [
        "!ls"
      ],
      "execution_count": null,
      "outputs": [
        {
          "output_type": "stream",
          "text": [
            "'bank (1).csv'\t spark-2.4.0-bin-hadoop2.7\n",
            "'bank (2).csv'\t spark-2.4.0-bin-hadoop2.7.tgz\n",
            "'bank (3).csv'\t spark-2.4.0-bin-hadoop2.7.tgz.1\n",
            "'bank (4).csv'\t spark-2.4.0-bin-hadoop2.7.tgz.2\n",
            " bank.csv\t spark-2.4.0-bin-hadoop2.7.tgz.3\n",
            " sample_data\t spark-warehouse\n"
          ],
          "name": "stdout"
        }
      ]
    },
    {
      "cell_type": "code",
      "metadata": {
        "id": "j_HO-KLn9spp",
        "colab_type": "code",
        "colab": {
          "base_uri": "https://localhost:8080/",
          "height": 218
        },
        "outputId": "957e4254-3097-48a6-a1ee-eee209689d9b"
      },
      "source": [
        "import pandas as pd\n",
        "bankd = pd.read_csv('bank.csv')\n",
        "bankd.head()"
      ],
      "execution_count": null,
      "outputs": [
        {
          "output_type": "execute_result",
          "data": {
            "text/html": [
              "<div>\n",
              "<style scoped>\n",
              "    .dataframe tbody tr th:only-of-type {\n",
              "        vertical-align: middle;\n",
              "    }\n",
              "\n",
              "    .dataframe tbody tr th {\n",
              "        vertical-align: top;\n",
              "    }\n",
              "\n",
              "    .dataframe thead th {\n",
              "        text-align: right;\n",
              "    }\n",
              "</style>\n",
              "<table border=\"1\" class=\"dataframe\">\n",
              "  <thead>\n",
              "    <tr style=\"text-align: right;\">\n",
              "      <th></th>\n",
              "      <th>age</th>\n",
              "      <th>job</th>\n",
              "      <th>marital</th>\n",
              "      <th>education</th>\n",
              "      <th>default</th>\n",
              "      <th>balance</th>\n",
              "      <th>housing</th>\n",
              "      <th>loan</th>\n",
              "      <th>contact</th>\n",
              "      <th>day</th>\n",
              "      <th>month</th>\n",
              "      <th>duration</th>\n",
              "      <th>campaign</th>\n",
              "      <th>pdays</th>\n",
              "      <th>previous</th>\n",
              "      <th>poutcome</th>\n",
              "      <th>deposit</th>\n",
              "    </tr>\n",
              "  </thead>\n",
              "  <tbody>\n",
              "    <tr>\n",
              "      <th>0</th>\n",
              "      <td>59</td>\n",
              "      <td>admin.</td>\n",
              "      <td>married</td>\n",
              "      <td>secondary</td>\n",
              "      <td>no</td>\n",
              "      <td>2343</td>\n",
              "      <td>yes</td>\n",
              "      <td>no</td>\n",
              "      <td>unknown</td>\n",
              "      <td>5</td>\n",
              "      <td>may</td>\n",
              "      <td>1042</td>\n",
              "      <td>1</td>\n",
              "      <td>-1</td>\n",
              "      <td>0</td>\n",
              "      <td>unknown</td>\n",
              "      <td>yes</td>\n",
              "    </tr>\n",
              "    <tr>\n",
              "      <th>1</th>\n",
              "      <td>56</td>\n",
              "      <td>admin.</td>\n",
              "      <td>married</td>\n",
              "      <td>secondary</td>\n",
              "      <td>no</td>\n",
              "      <td>45</td>\n",
              "      <td>no</td>\n",
              "      <td>no</td>\n",
              "      <td>unknown</td>\n",
              "      <td>5</td>\n",
              "      <td>may</td>\n",
              "      <td>1467</td>\n",
              "      <td>1</td>\n",
              "      <td>-1</td>\n",
              "      <td>0</td>\n",
              "      <td>unknown</td>\n",
              "      <td>yes</td>\n",
              "    </tr>\n",
              "    <tr>\n",
              "      <th>2</th>\n",
              "      <td>41</td>\n",
              "      <td>technician</td>\n",
              "      <td>married</td>\n",
              "      <td>secondary</td>\n",
              "      <td>no</td>\n",
              "      <td>1270</td>\n",
              "      <td>yes</td>\n",
              "      <td>no</td>\n",
              "      <td>unknown</td>\n",
              "      <td>5</td>\n",
              "      <td>may</td>\n",
              "      <td>1389</td>\n",
              "      <td>1</td>\n",
              "      <td>-1</td>\n",
              "      <td>0</td>\n",
              "      <td>unknown</td>\n",
              "      <td>yes</td>\n",
              "    </tr>\n",
              "    <tr>\n",
              "      <th>3</th>\n",
              "      <td>55</td>\n",
              "      <td>services</td>\n",
              "      <td>married</td>\n",
              "      <td>secondary</td>\n",
              "      <td>no</td>\n",
              "      <td>2476</td>\n",
              "      <td>yes</td>\n",
              "      <td>no</td>\n",
              "      <td>unknown</td>\n",
              "      <td>5</td>\n",
              "      <td>may</td>\n",
              "      <td>579</td>\n",
              "      <td>1</td>\n",
              "      <td>-1</td>\n",
              "      <td>0</td>\n",
              "      <td>unknown</td>\n",
              "      <td>yes</td>\n",
              "    </tr>\n",
              "    <tr>\n",
              "      <th>4</th>\n",
              "      <td>54</td>\n",
              "      <td>admin.</td>\n",
              "      <td>married</td>\n",
              "      <td>tertiary</td>\n",
              "      <td>no</td>\n",
              "      <td>184</td>\n",
              "      <td>no</td>\n",
              "      <td>no</td>\n",
              "      <td>unknown</td>\n",
              "      <td>5</td>\n",
              "      <td>may</td>\n",
              "      <td>673</td>\n",
              "      <td>2</td>\n",
              "      <td>-1</td>\n",
              "      <td>0</td>\n",
              "      <td>unknown</td>\n",
              "      <td>yes</td>\n",
              "    </tr>\n",
              "  </tbody>\n",
              "</table>\n",
              "</div>"
            ],
            "text/plain": [
              "   age         job  marital  education  ... pdays  previous poutcome deposit\n",
              "0   59      admin.  married  secondary  ...    -1         0  unknown     yes\n",
              "1   56      admin.  married  secondary  ...    -1         0  unknown     yes\n",
              "2   41  technician  married  secondary  ...    -1         0  unknown     yes\n",
              "3   55    services  married  secondary  ...    -1         0  unknown     yes\n",
              "4   54      admin.  married   tertiary  ...    -1         0  unknown     yes\n",
              "\n",
              "[5 rows x 17 columns]"
            ]
          },
          "metadata": {
            "tags": []
          },
          "execution_count": 89
        }
      ]
    },
    {
      "cell_type": "code",
      "metadata": {
        "colab_type": "code",
        "id": "FQ8Ts9eZBA-M",
        "colab": {
          "base_uri": "https://localhost:8080/",
          "height": 490
        },
        "outputId": "e6f132b8-d0d3-4451-f0e9-139c7b3ad4c4"
      },
      "source": [
        "# Import the 'bank.csv' as a Spark dataframe and name it as df\n",
        "spark = SparkSession.builder.appName('ml-bank').getOrCreate()\n",
        "df = spark.read.csv('bank.csv', header = True, inferSchema = True)  \n",
        "df.show()"
      ],
      "execution_count": null,
      "outputs": [
        {
          "output_type": "stream",
          "text": [
            "+---+-----------+--------+---------+-------+-------+-------+----+-------+---+-----+--------+--------+-----+--------+--------+-------+\n",
            "|age|        job| marital|education|default|balance|housing|loan|contact|day|month|duration|campaign|pdays|previous|poutcome|deposit|\n",
            "+---+-----------+--------+---------+-------+-------+-------+----+-------+---+-----+--------+--------+-----+--------+--------+-------+\n",
            "| 59|     admin.| married|secondary|     no|   2343|    yes|  no|unknown|  5|  may|    1042|       1|   -1|       0| unknown|    yes|\n",
            "| 56|     admin.| married|secondary|     no|     45|     no|  no|unknown|  5|  may|    1467|       1|   -1|       0| unknown|    yes|\n",
            "| 41| technician| married|secondary|     no|   1270|    yes|  no|unknown|  5|  may|    1389|       1|   -1|       0| unknown|    yes|\n",
            "| 55|   services| married|secondary|     no|   2476|    yes|  no|unknown|  5|  may|     579|       1|   -1|       0| unknown|    yes|\n",
            "| 54|     admin.| married| tertiary|     no|    184|     no|  no|unknown|  5|  may|     673|       2|   -1|       0| unknown|    yes|\n",
            "| 42| management|  single| tertiary|     no|      0|    yes| yes|unknown|  5|  may|     562|       2|   -1|       0| unknown|    yes|\n",
            "| 56| management| married| tertiary|     no|    830|    yes| yes|unknown|  6|  may|    1201|       1|   -1|       0| unknown|    yes|\n",
            "| 60|    retired|divorced|secondary|     no|    545|    yes|  no|unknown|  6|  may|    1030|       1|   -1|       0| unknown|    yes|\n",
            "| 37| technician| married|secondary|     no|      1|    yes|  no|unknown|  6|  may|     608|       1|   -1|       0| unknown|    yes|\n",
            "| 28|   services|  single|secondary|     no|   5090|    yes|  no|unknown|  6|  may|    1297|       3|   -1|       0| unknown|    yes|\n",
            "| 38|     admin.|  single|secondary|     no|    100|    yes|  no|unknown|  7|  may|     786|       1|   -1|       0| unknown|    yes|\n",
            "| 30|blue-collar| married|secondary|     no|    309|    yes|  no|unknown|  7|  may|    1574|       2|   -1|       0| unknown|    yes|\n",
            "| 29| management| married| tertiary|     no|    199|    yes| yes|unknown|  7|  may|    1689|       4|   -1|       0| unknown|    yes|\n",
            "| 46|blue-collar|  single| tertiary|     no|    460|    yes|  no|unknown|  7|  may|    1102|       2|   -1|       0| unknown|    yes|\n",
            "| 31| technician|  single| tertiary|     no|    703|    yes|  no|unknown|  8|  may|     943|       2|   -1|       0| unknown|    yes|\n",
            "| 35| management|divorced| tertiary|     no|   3837|    yes|  no|unknown|  8|  may|    1084|       1|   -1|       0| unknown|    yes|\n",
            "| 32|blue-collar|  single|  primary|     no|    611|    yes|  no|unknown|  8|  may|     541|       3|   -1|       0| unknown|    yes|\n",
            "| 49|   services| married|secondary|     no|     -8|    yes|  no|unknown|  8|  may|    1119|       1|   -1|       0| unknown|    yes|\n",
            "| 41|     admin.| married|secondary|     no|     55|    yes|  no|unknown|  8|  may|    1120|       2|   -1|       0| unknown|    yes|\n",
            "| 49|     admin.|divorced|secondary|     no|    168|    yes| yes|unknown|  8|  may|     513|       1|   -1|       0| unknown|    yes|\n",
            "+---+-----------+--------+---------+-------+-------+-------+----+-------+---+-----+--------+--------+-----+--------+--------+-------+\n",
            "only showing top 20 rows\n",
            "\n"
          ],
          "name": "stdout"
        }
      ]
    },
    {
      "cell_type": "code",
      "metadata": {
        "colab_type": "code",
        "id": "XJGWVc0yB0UA",
        "colab": {
          "base_uri": "https://localhost:8080/",
          "height": 634
        },
        "outputId": "3c669a80-ff0d-499d-df6d-dd1c5a042946"
      },
      "source": [
        "# Check data distribution\n",
        "# You may use printSchema()\n",
        "\n",
        "df.printSchema()\n",
        "stats = [a[0] for a in df.dtypes if a[1] == 'int']\n",
        "df.select(stats).describe().toPandas().transpose()"
      ],
      "execution_count": null,
      "outputs": [
        {
          "output_type": "stream",
          "text": [
            "root\n",
            " |-- age: integer (nullable = true)\n",
            " |-- job: string (nullable = true)\n",
            " |-- marital: string (nullable = true)\n",
            " |-- education: string (nullable = true)\n",
            " |-- default: string (nullable = true)\n",
            " |-- balance: integer (nullable = true)\n",
            " |-- housing: string (nullable = true)\n",
            " |-- loan: string (nullable = true)\n",
            " |-- contact: string (nullable = true)\n",
            " |-- day: integer (nullable = true)\n",
            " |-- month: string (nullable = true)\n",
            " |-- duration: integer (nullable = true)\n",
            " |-- campaign: integer (nullable = true)\n",
            " |-- pdays: integer (nullable = true)\n",
            " |-- previous: integer (nullable = true)\n",
            " |-- poutcome: string (nullable = true)\n",
            " |-- deposit: string (nullable = true)\n",
            "\n"
          ],
          "name": "stdout"
        },
        {
          "output_type": "execute_result",
          "data": {
            "text/html": [
              "<div>\n",
              "<style scoped>\n",
              "    .dataframe tbody tr th:only-of-type {\n",
              "        vertical-align: middle;\n",
              "    }\n",
              "\n",
              "    .dataframe tbody tr th {\n",
              "        vertical-align: top;\n",
              "    }\n",
              "\n",
              "    .dataframe thead th {\n",
              "        text-align: right;\n",
              "    }\n",
              "</style>\n",
              "<table border=\"1\" class=\"dataframe\">\n",
              "  <thead>\n",
              "    <tr style=\"text-align: right;\">\n",
              "      <th></th>\n",
              "      <th>0</th>\n",
              "      <th>1</th>\n",
              "      <th>2</th>\n",
              "      <th>3</th>\n",
              "      <th>4</th>\n",
              "    </tr>\n",
              "  </thead>\n",
              "  <tbody>\n",
              "    <tr>\n",
              "      <th>summary</th>\n",
              "      <td>count</td>\n",
              "      <td>mean</td>\n",
              "      <td>stddev</td>\n",
              "      <td>min</td>\n",
              "      <td>max</td>\n",
              "    </tr>\n",
              "    <tr>\n",
              "      <th>age</th>\n",
              "      <td>11162</td>\n",
              "      <td>41.231947679627304</td>\n",
              "      <td>11.913369192215518</td>\n",
              "      <td>18</td>\n",
              "      <td>95</td>\n",
              "    </tr>\n",
              "    <tr>\n",
              "      <th>balance</th>\n",
              "      <td>11162</td>\n",
              "      <td>1528.5385235620856</td>\n",
              "      <td>3225.413325946149</td>\n",
              "      <td>-6847</td>\n",
              "      <td>81204</td>\n",
              "    </tr>\n",
              "    <tr>\n",
              "      <th>day</th>\n",
              "      <td>11162</td>\n",
              "      <td>15.658036194230425</td>\n",
              "      <td>8.420739541006462</td>\n",
              "      <td>1</td>\n",
              "      <td>31</td>\n",
              "    </tr>\n",
              "    <tr>\n",
              "      <th>duration</th>\n",
              "      <td>11162</td>\n",
              "      <td>371.99381831213043</td>\n",
              "      <td>347.12838571630687</td>\n",
              "      <td>2</td>\n",
              "      <td>3881</td>\n",
              "    </tr>\n",
              "    <tr>\n",
              "      <th>campaign</th>\n",
              "      <td>11162</td>\n",
              "      <td>2.508421429851281</td>\n",
              "      <td>2.7220771816614824</td>\n",
              "      <td>1</td>\n",
              "      <td>63</td>\n",
              "    </tr>\n",
              "    <tr>\n",
              "      <th>pdays</th>\n",
              "      <td>11162</td>\n",
              "      <td>51.33040673714388</td>\n",
              "      <td>108.75828197197717</td>\n",
              "      <td>-1</td>\n",
              "      <td>854</td>\n",
              "    </tr>\n",
              "    <tr>\n",
              "      <th>previous</th>\n",
              "      <td>11162</td>\n",
              "      <td>0.8325568894463358</td>\n",
              "      <td>2.292007218670508</td>\n",
              "      <td>0</td>\n",
              "      <td>58</td>\n",
              "    </tr>\n",
              "  </tbody>\n",
              "</table>\n",
              "</div>"
            ],
            "text/plain": [
              "              0                   1                   2      3      4\n",
              "summary   count                mean              stddev    min    max\n",
              "age       11162  41.231947679627304  11.913369192215518     18     95\n",
              "balance   11162  1528.5385235620856   3225.413325946149  -6847  81204\n",
              "day       11162  15.658036194230425   8.420739541006462      1     31\n",
              "duration  11162  371.99381831213043  347.12838571630687      2   3881\n",
              "campaign  11162   2.508421429851281  2.7220771816614824      1     63\n",
              "pdays     11162   51.33040673714388  108.75828197197717     -1    854\n",
              "previous  11162  0.8325568894463358   2.292007218670508      0     58"
            ]
          },
          "metadata": {
            "tags": []
          },
          "execution_count": 91
        }
      ]
    },
    {
      "cell_type": "markdown",
      "metadata": {
        "colab_type": "text",
        "id": "wKQMhrtFChHa"
      },
      "source": [
        "#Select features"
      ]
    },
    {
      "cell_type": "code",
      "metadata": {
        "colab_type": "code",
        "id": "VU5xMqN_RyM2",
        "colab": {}
      },
      "source": [
        "#Select features ('age', 'job', 'marital', 'education', 'default', 'balance', 'housing', 'loan', 'campaign', 'pdays', 'previous', 'poutcome', 'deposit') as df2\n",
        "df2=df.select('age', 'job', 'marital', 'education', 'default', 'balance', 'housing', 'loan', 'campaign', 'pdays', 'previous', 'poutcome', 'deposit')\n",
        "df2.show()\n"
      ],
      "execution_count": null,
      "outputs": []
    },
    {
      "cell_type": "code",
      "metadata": {
        "colab_type": "code",
        "id": "vwF5sqRYa_eI",
        "colab": {
          "base_uri": "https://localhost:8080/",
          "height": 490
        },
        "outputId": "112ed26d-2669-4136-c0b9-1028a2c1dbae"
      },
      "source": [
        "#remove invalid rows/records using spark.sql\n",
        "df2.registerTempTable(\"bank\")\n",
        "df2=spark.sql(\"SELECT * FROM bank WHERE job <> 'unknown' AND education <> 'unknown' AND poutcome <> 'unknown' AND poutcome <> 'other'\") \n",
        "df2.show()"
      ],
      "execution_count": null,
      "outputs": [
        {
          "output_type": "stream",
          "text": [
            "+---+------------+--------+---------+-------+-------+-------+----+--------+-----+--------+--------+-------+\n",
            "|age|         job| marital|education|default|balance|housing|loan|campaign|pdays|previous|poutcome|deposit|\n",
            "+---+------------+--------+---------+-------+-------+-------+----+--------+-----+--------+--------+-------+\n",
            "| 33|    services| married|secondary|     no|   3444|    yes|  no|       1|   91|       4| failure|    yes|\n",
            "| 56|  technician| married|secondary|     no|    589|    yes|  no|       1|  147|       2| success|    yes|\n",
            "| 34|      admin.| married| tertiary|     no|    899|    yes|  no|       1|  170|       3| failure|    yes|\n",
            "| 53|     retired| married| tertiary|     no|   2269|     no|  no|       2|  150|       1| success|    yes|\n",
            "| 37|  technician| married|secondary|     no|   5115|    yes|  no|       2|  171|       4| failure|    yes|\n",
            "| 45|entrepreneur| married|secondary|     no|    781|     no| yes|       2|  126|       2| failure|    yes|\n",
            "| 46|  unemployed|divorced|secondary|     no|   3354|    yes|  no|       1|  174|       1| success|    yes|\n",
            "| 40|  management| married| tertiary|     no|   3352|    yes|  no|       2|   27|       1| success|    yes|\n",
            "| 32|  technician| married| tertiary|     no|   4654|    yes| yes|       1|  128|       2| failure|    yes|\n",
            "| 30| blue-collar| married|secondary|     no|    501|    yes| yes|       1|  177|       1| failure|    yes|\n",
            "| 46|  technician| married| tertiary|     no|      0|     no|  no|       1|  167|       1| failure|    yes|\n",
            "| 38|entrepreneur| married| tertiary|     no|   1110|    yes|  no|       2|  183|       2| failure|    yes|\n",
            "| 32|    services| married|secondary|     no|    983|    yes|  no|       2|  133|       1| failure|    yes|\n",
            "| 31|  unemployed| married|secondary|     no|    314|    yes|  no|       3|  178|       7| failure|    yes|\n",
            "| 50| blue-collar| married|  primary|     no|  12519|    yes|  no|       3|   34|       1| failure|    yes|\n",
            "| 47|  technician| married|secondary|     no|      0|     no|  no|       1|   10|       1| failure|    yes|\n",
            "| 59|  management| married| tertiary|     no|   7049|     no|  no|       1|  163|       2| failure|    yes|\n",
            "| 31|  management| married|secondary|     no|   8629|    yes|  no|       1|  184|       2| failure|    yes|\n",
            "| 53| blue-collar| married|secondary|     no|   1777|    yes|  no|       5|  154|       1| failure|    yes|\n",
            "| 40|  technician|  single| tertiary|     no|   1646|    yes|  no|       1|  242|       2| failure|    yes|\n",
            "+---+------------+--------+---------+-------+-------+-------+----+--------+-----+--------+--------+-------+\n",
            "only showing top 20 rows\n",
            "\n"
          ],
          "name": "stdout"
        }
      ]
    },
    {
      "cell_type": "code",
      "metadata": {
        "colab_type": "code",
        "id": "A_T8qvxzR-oI",
        "colab": {
          "base_uri": "https://localhost:8080/",
          "height": 126
        },
        "outputId": "232c392e-e9df-4736-afd4-bb22d0ce4369"
      },
      "source": [
        "#Covert categorical features to numeric features using One hot encoding\n",
        "from pyspark.ml import Pipeline\n",
        "from pyspark.ml.feature import StringIndexer, OneHotEncoderEstimator\n",
        "from pyspark.ml.feature import VectorAssembler\n",
        "\n",
        "strindexer=[StringIndexer(inputCol=column, outputCol=column+\"_index\").fit(df2) for column in list(set(df2.columns)-set(['age', 'balance', 'campaign', 'pdays', 'previous','deposit']))]\n",
        "\n",
        "pipeline=Pipeline(stages=strindexer)\n",
        "df2=pipeline.fit(df2).transform(df2)\n",
        "\n",
        "OneHencoder=OneHotEncoderEstimator(inputCols=[\"housing_index\", \"marital_index\", \"default_index\", \"loan_index\", \"job_index\", \"education_index\", \"poutcome_index\"],\n",
        "                              outputCols=[\"housing_vec\", \"marital_vec\", \"default_vec\", \"loan_vec\", \"job_vec\", \"education_vec\", \"poutcome_vec\"])\n",
        " \n",
        "model_OneHencoder=OneHencoder.fit(df2)\n",
        "df2=model_OneHencoder.transform(df2)\n",
        " \n",
        "df2=df2.select([column for column in df2.columns if column not in [\"housing\", \"marital\", \"default\", \"loan\", \"job\", \"education\", \"poutcome\", \n",
        "                                                                  \"housing_index\", \"marital_index\", \"default_index\", \"loan_index\", \"job_index\", \"education_index\", \"poutcome_index\"]])\n",
        " \n",
        "assembler=VectorAssembler(inputCols=[\"age\", \"balance\", \"campaign\", \"pdays\", \"previous\", \"job_vec\", \"education_vec\", \"marital_vec\", \"poutcome_vec\", \"housing_vec\", \"loan_vec\", \"default_vec\"], outputCol=\"features\")\n",
        "df2=assembler.transform(df2)\n",
        "   \n",
        "featurdf=df2.select(\"features\")\n",
        "\n",
        "featurdf.printSchema()\n",
        " \n",
        "from pyspark.ml.feature import StringIndexer\n",
        "depo_df=df2.select(\"deposit\")\n",
        "indexer=StringIndexer(inputCol=\"deposit\", outputCol=\"deposit_index\")\n",
        "depo_df=indexer.fit(depo_df).transform(depo_df)\n",
        " \n",
        "y=depo_df.select('deposit_index')\n",
        " \n",
        "y.printSchema()\n"
      ],
      "execution_count": null,
      "outputs": [
        {
          "output_type": "stream",
          "text": [
            "root\n",
            " |-- features: vector (nullable = true)\n",
            "\n",
            "root\n",
            " |-- deposit_index: double (nullable = false)\n",
            "\n"
          ],
          "name": "stdout"
        }
      ]
    },
    {
      "cell_type": "code",
      "metadata": {
        "colab_type": "code",
        "id": "cfL6_sca5VwI",
        "colab": {
          "base_uri": "https://localhost:8080/",
          "height": 528
        },
        "outputId": "6f9826f3-204a-4a6c-ce35-723d3b8869e5"
      },
      "source": [
        "#Apply Min-Max normalisation on each attribute using MinMaxScaler  \n",
        "from pyspark.ml.feature import MinMaxScaler\n",
        "from pyspark.sql.functions import monotonically_increasing_id \n",
        "\n",
        "minmaxscale = MinMaxScaler(inputCol=\"features\",outputCol=\"ScaledFeature\")\n",
        "scalermodel= minmaxscale.fit(df2)\n",
        "normalised=scalermodel.transform(df2)\n",
        "print(\"Range of feautures: [%f, %f]\" % (minmaxscale.getMin(), minmaxscale.getMax()))\n",
        "\n",
        "X=normalised.select(\"ScaledFeature\")\n",
        "X.show(truncate=False)\n",
        "\n",
        "X_index = X.select(\"*\").withColumn(\"id\", monotonically_increasing_id())\n",
        "y_index = y.select(\"*\").withColumn(\"id\", monotonically_increasing_id())\n",
        " \n",
        "\n",
        "model_d = y_index.join(X_index, \"id\", \"outer\").drop(\"id\") \n"
      ],
      "execution_count": null,
      "outputs": [
        {
          "output_type": "stream",
          "text": [
            "Range of feautures: [0.000000, 1.000000]\n",
            "+-------------------------------------------------------------------------------------------------------------------------------------------------------------------------------+\n",
            "|ScaledFeature                                                                                                                                                                  |\n",
            "+-------------------------------------------------------------------------------------------------------------------------------------------------------------------------------+\n",
            "|[0.21428571428571427,0.05334664361715079,0.0,0.10550996483001172,0.05555555555555555,0.0,0.0,0.0,0.0,0.0,1.0,0.0,0.0,0.0,0.0,1.0,0.0,1.0,0.0,1.0,0.0,1.0,1.0]                  |\n",
            "|[0.5428571428571428,0.018589759197487277,0.0,0.17116060961313012,0.018518518518518517,0.0,1.0,0.0,0.0,0.0,0.0,0.0,0.0,0.0,0.0,1.0,0.0,1.0,0.0,0.0,0.0,1.0,1.0]                 |\n",
            "|[0.22857142857142856,0.02236371162133866,0.0,0.1981242672919109,0.037037037037037035,0.0,0.0,1.0,0.0,0.0,0.0,0.0,0.0,0.0,0.0,0.0,1.0,1.0,0.0,1.0,0.0,1.0,1.0]                  |\n",
            "|[0.5,0.03904214652674637,0.09090909090909091,0.1746776084407972,0.0,0.0,0.0,0.0,0.0,1.0,0.0,0.0,0.0,0.0,0.0,0.0,1.0,1.0,0.0,0.0,1.0,1.0,1.0]                                   |\n",
            "|[0.2714285714285714,0.07368946458571742,0.09090909090909091,0.19929660023446658,0.05555555555555555,0.0,1.0,0.0,0.0,0.0,0.0,0.0,0.0,0.0,0.0,1.0,0.0,1.0,0.0,1.0,0.0,1.0,1.0]   |\n",
            "|[0.38571428571428573,0.020927174892259745,0.09090909090909091,0.14654161781946073,0.018518518518518517,0.0,0.0,0.0,0.0,0.0,0.0,0.0,0.0,0.0,1.0,1.0,0.0,1.0,0.0,1.0,1.0,0.0,1.0]|\n",
            "|[0.4,0.05225098001022619,0.0,0.20281359906213364,0.0,0.0,0.0,0.0,0.0,0.0,0.0,0.0,1.0,0.0,0.0,1.0,0.0,0.0,0.0,0.0,0.0,1.0,1.0]                                                  |\n",
            "|[0.3142857142857143,0.05222663193007231,0.09090909090909091,0.03048065650644783,0.0,1.0,0.0,0.0,0.0,0.0,0.0,0.0,0.0,0.0,0.0,0.0,1.0,1.0,0.0,0.0,0.0,1.0,1.0]                   |\n",
            "|[0.2,0.0680772321102481,0.0,0.1488862837045721,0.018518518518518517,0.0,1.0,0.0,0.0,0.0,0.0,0.0,0.0,0.0,0.0,0.0,1.0,1.0,0.0,1.0,0.0,0.0,1.0]                                   |\n",
            "|[0.17142857142857143,0.017518443670716564,0.0,0.2063305978898007,0.0,0.0,0.0,0.0,1.0,0.0,0.0,0.0,0.0,0.0,0.0,1.0,0.0,1.0,0.0,1.0,0.0,0.0,1.0]                                  |\n",
            "|[0.4,0.011419249592169658,0.0,0.19460726846424384,0.0,0.0,1.0,0.0,0.0,0.0,0.0,0.0,0.0,0.0,0.0,0.0,1.0,1.0,0.0,1.0,1.0,1.0,1.0]                                                 |\n",
            "|[0.2857142857142857,0.024932434077572983,0.09090909090909091,0.21336459554513482,0.018518518518518517,0.0,0.0,0.0,0.0,0.0,0.0,0.0,0.0,0.0,1.0,0.0,1.0,1.0,0.0,1.0,0.0,1.0,1.0] |\n",
            "|[0.2,0.02338633098780161,0.09090909090909091,0.15474794841735054,0.0,0.0,0.0,0.0,0.0,0.0,1.0,0.0,0.0,0.0,0.0,1.0,0.0,1.0,0.0,1.0,0.0,1.0,1.0]                                  |\n",
            "|[0.18571428571428572,0.015241898176328797,0.18181818181818182,0.20750293083235638,0.1111111111111111,0.0,0.0,0.0,0.0,0.0,0.0,0.0,1.0,0.0,0.0,1.0,0.0,1.0,0.0,1.0,0.0,1.0,1.0]  |\n",
            "|[0.45714285714285713,0.1638260573153807,0.18181818181818182,0.038686987104337635,0.0,0.0,0.0,0.0,1.0,0.0,0.0,0.0,0.0,0.0,0.0,0.0,0.0,1.0,0.0,1.0,0.0,1.0,1.0]                  |\n",
            "|[0.4142857142857143,0.011419249592169658,0.0,0.010550996483001172,0.0,0.0,1.0,0.0,0.0,0.0,0.0,0.0,0.0,0.0,0.0,1.0,0.0,1.0,0.0,1.0,1.0,1.0,1.0]                                 |\n",
            "|[0.5857142857142857,0.09723405809451925,0.0,0.1899179366940211,0.018518518518518517,1.0,0.0,0.0,0.0,0.0,0.0,0.0,0.0,0.0,0.0,0.0,1.0,1.0,0.0,1.0,1.0,1.0,1.0]                   |\n",
            "|[0.18571428571428572,0.11646904141608434,0.0,0.21453692848769051,0.018518518518518517,1.0,0.0,0.0,0.0,0.0,0.0,0.0,0.0,0.0,0.0,1.0,0.0,1.0,0.0,1.0,0.0,1.0,1.0]                 |\n",
            "|[0.5,0.03305251880889192,0.36363636363636365,0.17936694021101993,0.0,0.0,0.0,0.0,1.0,0.0,0.0,0.0,0.0,0.0,0.0,1.0,0.0,1.0,0.0,1.0,0.0,1.0,1.0]                                  |\n",
            "|[0.3142857142857143,0.03145771955881279,0.0,0.2825322391559203,0.018518518518518517,0.0,1.0,0.0,0.0,0.0,0.0,0.0,0.0,0.0,0.0,0.0,1.0,0.0,1.0,1.0,0.0,1.0,1.0]                   |\n",
            "+-------------------------------------------------------------------------------------------------------------------------------------------------------------------------------+\n",
            "only showing top 20 rows\n",
            "\n"
          ],
          "name": "stdout"
        }
      ]
    },
    {
      "cell_type": "markdown",
      "metadata": {
        "colab_type": "text",
        "id": "9trUY7ZgCzhW"
      },
      "source": [
        "# 4.Unsupervised learning"
      ]
    },
    {
      "cell_type": "markdown",
      "metadata": {
        "colab_type": "text",
        "id": "KTQfUch2Cmmi"
      },
      "source": [
        "## 4.1 K-means"
      ]
    },
    {
      "cell_type": "code",
      "metadata": {
        "colab_type": "code",
        "id": "dGGZI70Ohqgg",
        "colab": {
          "base_uri": "https://localhost:8080/",
          "height": 508
        },
        "outputId": "1f3728ef-b5dd-48d3-e12b-df84b4604204"
      },
      "source": [
        "# perform unsupervised learning on df2 with k-means \n",
        "# you can use whole df2 as both training and testing data, \n",
        "# evaluate the clustering result using Accuracy.\n",
        "StructData= data_model.toDF('label','features')\n",
        "StructData.show()\n",
        "from pyspark.ml.clustering import KMeans\n",
        "from pyspark.ml.evaluation import ClusteringEvaluator\n",
        "from pyspark.ml.evaluation import MulticlassClassificationEvaluator\n",
        "from pyspark.ml.evaluation import BinaryClassificationEvaluator \n",
        "kmeanset = KMeans(featuresCol='features').setK(2).setSeed(1)\n",
        "k_model = kmeanset.fit(StructData)\n",
        "kprediction = k_model.transform(StructData)\n",
        "\n",
        "from pyspark.sql.types import DoubleType\n",
        "kprediction = kprediction.withColumn(\"prediction\",kprediction.prediction.cast(DoubleType()))\n",
        "\n",
        "kmean_evaluator = MulticlassClassificationEvaluator()\n",
        "print(\" accuracy of k means is\",kmean_evaluator.evaluate(kmeans_prediction))\n"
      ],
      "execution_count": null,
      "outputs": [
        {
          "output_type": "stream",
          "text": [
            "+-----+--------------------+\n",
            "|label|            features|\n",
            "+-----+--------------------+\n",
            "|  0.0|[0.32857142857142...|\n",
            "|  0.0|[0.18571428571428...|\n",
            "|  0.0|[0.55714285714285...|\n",
            "|  0.0|[0.27142857142857...|\n",
            "|  1.0|[0.57142857142857...|\n",
            "|  1.0|[0.28571428571428...|\n",
            "|  1.0|[0.17142857142857...|\n",
            "|  1.0|[0.27142857142857...|\n",
            "|  1.0|[0.28571428571428...|\n",
            "|  0.0|[0.2,0.0149984173...|\n",
            "|  0.0|[0.24285714285714...|\n",
            "|  0.0|[0.1,0.0212558739...|\n",
            "|  0.0|[0.48571428571428...|\n",
            "|  0.0|[0.34285714285714...|\n",
            "|  0.0|[0.22857142857142...|\n",
            "|  0.0|[0.52857142857142...|\n",
            "|  0.0|[0.21428571428571...|\n",
            "|  0.0|[0.2,0.0121983881...|\n",
            "|  0.0|[0.04285714285714...|\n",
            "|  1.0|[0.38571428571428...|\n",
            "+-----+--------------------+\n",
            "only showing top 20 rows\n",
            "\n",
            " accuracy of k means is 0.5438051682557494\n"
          ],
          "name": "stdout"
        }
      ]
    },
    {
      "cell_type": "markdown",
      "metadata": {
        "colab_type": "text",
        "id": "FHom8o2KCt36"
      },
      "source": [
        "## PCA"
      ]
    },
    {
      "cell_type": "code",
      "metadata": {
        "colab_type": "code",
        "id": "wT4cx5uGTjmj",
        "colab": {
          "base_uri": "https://localhost:8080/",
          "height": 929
        },
        "outputId": "82254082-05e8-42ac-f5b9-6fa30afb17ba"
      },
      "source": [
        "#Generate a scatter plot using the first two PCA components to investigate the data distribution.\n",
        "from pyspark.ml.feature import PCA\n",
        "from pyspark.ml.linalg import Vectors\n",
        "import matplotlib.pyplot as plt\n",
        "import numpy as np\n",
        "\n",
        "pcam = PCA(k=2, inputCol=\"features\", outputCol=\"PCA\")\n",
        "\n",
        "smodel = pcam.fit(StructData)\n",
        "Transformedpca = smodel.transform(StructData)\n",
        "\n",
        "Transformedpca.show(truncate=False)\n",
        "\n",
        "pca_arr = np.array(Transformedpca.select('PCA').collect())\n",
        "\n",
        "np_pca = pca_arr[ :, 0, :]\n",
        "\n",
        "\n",
        "plt.figure(dpi=100)\n",
        "plt.suptitle('Scatter Plot of a PCA', fontsize=10)\n",
        "plt.xlabel('value zero', fontsize=8)\n",
        "plt.ylabel('value one', fontsize=8)\n",
        "plt.scatter(np_pca[:,0], np_pca[:,1], s=8, alpha=1)\n"
      ],
      "execution_count": null,
      "outputs": [
        {
          "output_type": "stream",
          "text": [
            "+-----+------------------------------------------------------------------------------------------------------------------------------------------------------------------------------+------------------------------------------+\n",
            "|label|features                                                                                                                                                                      |PCA                                       |\n",
            "+-----+------------------------------------------------------------------------------------------------------------------------------------------------------------------------------+------------------------------------------+\n",
            "|0.0  |[0.32857142857142857,0.010274889824937303,0.0,0.23681125439624853,0.0,0.0,0.0,0.0,0.0,0.0,0.0,0.0,0.0,1.0,0.0,0.0,1.0,0.0,1.0,1.0,0.0,1.0,1.0]                                |[0.7645722111920759,-0.4948702464771579]  |\n",
            "|0.0  |[0.18571428571428572,0.1679408828613864,0.0,0.10668229777256741,0.0,1.0,0.0,0.0,0.0,0.0,0.0,0.0,0.0,0.0,0.0,0.0,1.0,0.0,1.0,0.0,0.0,1.0,1.0]                                  |[1.2715078867772063,-0.2482018918295332]  |\n",
            "|0.0  |[0.5571428571428572,0.0954201261230552,0.2727272727272727,0.21570926143024619,0.018518518518518517,1.0,0.0,0.0,0.0,0.0,0.0,0.0,0.0,0.0,0.0,0.0,0.0,1.0,0.0,1.0,1.0,1.0,1.0]   |[0.19369331269014728,0.9530643829339338]  |\n",
            "|0.0  |[0.2714285714285714,0.03220033600350612,0.09090909090909091,0.917936694021102,0.037037037037037035,0.0,1.0,0.0,0.0,0.0,0.0,0.0,0.0,0.0,0.0,1.0,0.0,1.0,0.0,1.0,0.0,1.0,1.0]   |[-0.9789010630210606,0.25193055240301726] |\n",
            "|1.0  |[0.5714285714285714,0.01096881010932288,0.09090909090909091,0.2391559202813599,0.09259259259259259,0.0,0.0,0.0,0.0,0.0,1.0,0.0,0.0,0.0,0.0,1.0,0.0,1.0,0.0,1.0,1.0,0.0,1.0]   |[-0.8656463577581579,0.5130015556451987]  |\n",
            "|1.0  |[0.2857142857142857,0.012965352681941029,0.0,0.05744431418522861,0.018518518518518517,0.0,1.0,0.0,0.0,0.0,0.0,0.0,0.0,0.0,0.0,0.0,1.0,1.0,0.0,0.0,0.0,1.0,1.0]                |[0.29037664129722385,0.753684533398365]   |\n",
            "|1.0  |[0.17142857142857143,0.02373937815003287,0.18181818181818182,0.38452520515826494,0.0,0.0,0.0,0.0,1.0,0.0,0.0,0.0,0.0,0.0,0.0,1.0,0.0,0.0,1.0,1.0,0.0,1.0,1.0]                 |[-0.48258321026338924,-0.9509790122898012]|\n",
            "|1.0  |[0.2714285714285714,0.02741593825326873,0.0,0.015240328253223915,0.14814814814814814,0.0,0.0,1.0,0.0,0.0,0.0,0.0,0.0,0.0,0.0,1.0,0.0,1.0,0.0,1.0,0.0,1.0,1.0]                 |[-1.0017441001115683,0.26857620232914103] |\n",
            "|1.0  |[0.2857142857142857,0.07377468286625599,0.0,0.21453692848769051,0.0,0.0,1.0,0.0,0.0,0.0,0.0,0.0,0.0,0.0,0.0,0.0,1.0,0.0,1.0,1.0,0.0,1.0,1.0]                                  |[0.685790812587158,-0.5922807367259002]   |\n",
            "|0.0  |[0.2,0.014998417374789998,0.0,0.32004689331770225,0.07407407407407407,1.0,0.0,0.0,0.0,0.0,0.0,0.0,0.0,0.0,0.0,0.0,1.0,0.0,0.0,0.0,0.0,1.0,1.0]                                |[0.9949531781166805,0.3602659604049986]   |\n",
            "|0.0  |[0.24285714285714285,0.026819410289498673,0.36363636363636365,0.20867526377491208,0.05555555555555555,0.0,0.0,0.0,0.0,0.0,0.0,0.0,0.0,0.0,0.0,0.0,1.0,1.0,0.0,1.0,0.0,1.0,1.0]|[0.22025548691292662,0.7533220743763439]  |\n",
            "|0.0  |[0.1,0.021255873974337123,0.09090909090909091,0.1324736225087925,0.018518518518518517,1.0,0.0,0.0,0.0,0.0,0.0,0.0,0.0,0.0,0.0,0.0,1.0,0.0,1.0,1.0,1.0,1.0,1.0]                |[1.31693079207232,-0.21447072247960158]   |\n",
            "|0.0  |[0.4857142857142857,0.01851671495702564,0.0,0.10550996483001172,0.018518518518518517,1.0,0.0,0.0,0.0,0.0,0.0,0.0,0.0,0.0,0.0,0.0,1.0,1.0,0.0,1.0,1.0,1.0,1.0]                 |[0.7703697648814196,1.1052605543778236]   |\n",
            "|0.0  |[0.34285714285714286,0.0145114557717124,0.5454545454545454,0.21336459554513482,0.05555555555555555,1.0,0.0,0.0,0.0,0.0,0.0,0.0,0.0,0.0,0.0,0.0,1.0,1.0,0.0,0.0,1.0,1.0,1.0]   |[0.9053999368017733,1.1590087168111198]   |\n",
            "|0.0  |[0.22857142857142856,0.01649582430425361,0.0,0.20281359906213364,0.25925925925925924,1.0,0.0,0.0,0.0,0.0,0.0,0.0,0.0,0.0,0.0,0.0,1.0,0.0,1.0,1.0,0.0,1.0,1.0]                 |[1.1344961979396804,-0.32272052319613737] |\n",
            "|0.0  |[0.5285714285714286,0.0362177692288963,0.09090909090909091,0.31887456037514655,0.0,1.0,0.0,0.0,0.0,0.0,0.0,0.0,0.0,0.0,0.0,0.0,1.0,0.0,0.0,1.0,1.0,1.0,1.0]                   |[1.024725043147984,0.453938334572004]     |\n",
            "|0.0  |[0.21428571428571427,0.006914854763701882,0.0,0.40328253223915594,0.0,0.0,0.0,1.0,0.0,0.0,0.0,0.0,0.0,0.0,0.0,1.0,0.0,1.0,0.0,1.0,0.0,1.0,1.0]                                |[-1.0106006641237002,0.24976168862369372] |\n",
            "|0.0  |[0.2,0.012198388157093813,0.2727272727272727,0.12192262602579132,0.07407407407407407,0.0,0.0,0.0,0.0,0.0,0.0,1.0,0.0,0.0,0.0,0.0,1.0,0.0,1.0,1.0,1.0,1.0,1.0]                 |[0.9443046891749072,-0.47619211525492383] |\n",
            "|0.0  |[0.04285714285714286,0.009325314698935988,0.0,0.4220398593200469,0.037037037037037035,0.0,0.0,0.0,1.0,0.0,0.0,0.0,0.0,0.0,0.0,0.0,0.0,1.0,0.0,1.0,0.0,0.0,1.0]                |[-0.524856520529292,0.5442543345809051]   |\n",
            "|1.0  |[0.38571428571428573,0.01624016946263787,0.2727272727272727,0.38452520515826494,0.05555555555555555,0.0,0.0,0.0,0.0,0.0,1.0,0.0,0.0,0.0,0.0,1.0,0.0,0.0,0.0,1.0,0.0,0.0,1.0]  |[-0.7740298664155814,-0.29400620365321534]|\n",
            "+-----+------------------------------------------------------------------------------------------------------------------------------------------------------------------------------+------------------------------------------+\n",
            "only showing top 20 rows\n",
            "\n"
          ],
          "name": "stdout"
        },
        {
          "output_type": "execute_result",
          "data": {
            "text/plain": [
              "<matplotlib.collections.PathCollection at 0x7f0c96166978>"
            ]
          },
          "metadata": {
            "tags": []
          },
          "execution_count": 84
        },
        {
          "output_type": "display_data",
          "data": {
            "image/png": "[encoded data removed]",
            "text/plain": [
              "<Figure size 600x400 with 1 Axes>"
            ]
          },
          "metadata": {
            "tags": []
          }
        }
      ]
    },
    {
      "cell_type": "markdown",
      "metadata": {
        "colab_type": "text",
        "id": "ulp_uILXCv4Z"
      },
      "source": [
        "# Supervised learning"
      ]
    },
    {
      "cell_type": "code",
      "metadata": {
        "colab_type": "code",
        "id": "0O7tszcPfnHN",
        "colab": {
          "base_uri": "https://localhost:8080/",
          "height": 54
        },
        "outputId": "82c36f8e-f172-415e-aace-1f4f9e72e624"
      },
      "source": [
        "train, test = DataStructured.randomSplit([0.7, 0.3], seed = 742)\n",
        "print(\"Training Dataset Count: \" + str(train.count()))\n",
        "print(\"Test Dataset Count: \" + str(test.count()))"
      ],
      "execution_count": null,
      "outputs": [
        {
          "output_type": "stream",
          "text": [
            "Training Dataset Count: 1515\n",
            "Test Dataset Count: 666\n"
          ],
          "name": "stdout"
        }
      ]
    },
    {
      "cell_type": "markdown",
      "metadata": {
        "colab_type": "text",
        "id": "2SsHdh7YC-eN"
      },
      "source": [
        "## LogisticRegression"
      ]
    },
    {
      "cell_type": "code",
      "metadata": {
        "colab_type": "code",
        "id": "Vqo_ywFQYxSj",
        "colab": {
          "base_uri": "https://localhost:8080/",
          "height": 314
        },
        "outputId": "17e596e7-8ca2-4ee4-8b4a-6bef1a190588"
      },
      "source": [
        "# Logistic Regression\n",
        "from pyspark.ml.classification import LogisticRegression\n",
        "from pyspark.ml.evaluation import MulticlassClassificationEvaluator\n",
        "from pyspark.ml.evaluation import BinaryClassificationEvaluator \n",
        "LogiRegression = LogisticRegression(featuresCol = 'features', labelCol = 'label', maxIter=11)\n",
        "LogiRegression_Model = LogiRegression.fit(train)\n",
        "\n",
        "trainingSummary = LogiRegression_Model.summary\n",
        "\n",
        "Reg_of_Coff = trainingSummary.roc.toPandas()\n",
        "plt.plot(Reg_of_Coff['FPR'],Reg_of_Coff['TPR'])\n",
        "plt.ylabel('False Positive Rate')\n",
        "plt.xlabel('True Positive Rate')\n",
        "plt.title('ROC Curve')\n",
        "plt.show()\n",
        "\n",
        "print('Training set area Under ROC: ' + str(trainingSummary.areaUnderROC))\n",
        "\n"
      ],
      "execution_count": null,
      "outputs": [
        {
          "output_type": "display_data",
          "data": {
            "image/png": "[encoded data removed]",
            "text/plain": [
              "<Figure size 432x288 with 1 Axes>"
            ]
          },
          "metadata": {
            "tags": []
          }
        },
        {
          "output_type": "stream",
          "text": [
            "Training set area Under ROC: 0.8077294960755322\n"
          ],
          "name": "stdout"
        }
      ]
    },
    {
      "cell_type": "code",
      "metadata": {
        "id": "UTBNAxUOvk1b",
        "colab_type": "code",
        "colab": {
          "base_uri": "https://localhost:8080/",
          "height": 365
        },
        "outputId": "f52c6d1a-f707-4b66-85e3-098dbc69c98f"
      },
      "source": [
        "#Examining the coefficients\n",
        "predictionmodel = LogiRegression_Model.transform(test)\n",
        "coeff = LogiRegression_Model.coefficients\n",
        "print(coeff)\n",
        "predictionmodel.select('label', 'features', 'rawPrediction', 'prediction', 'probability').show(8)\n",
        "\n",
        "#Evaluation\n",
        "\n",
        "from pyspark.ml.evaluation import BinaryClassificationEvaluator\n",
        "l_evaluator = BinaryClassificationEvaluator()\n",
        "print('Test Area Under ROC', l_evaluator.evaluate(predictionmodel))\n"
      ],
      "execution_count": null,
      "outputs": [
        {
          "output_type": "stream",
          "text": [
            "[0.13689597112117666,-2.5837338482359336,1.5452900165335877,0.10914129771779066,-2.1304296585478935,-0.10872337597810097,0.09387538383735257,0.17454801032134934,0.38687217716637085,-0.20896984785011807,0.04141215378634817,-0.7042791423214274,-0.5332218321469641,0.20406177723049054,0.28138997259438686,-0.10169692776632434,-0.13935289202489384,-0.07798615972264007,-0.01948673645023536,1.839217349913693,-0.7825486402138115,-0.4132842592947089,-0.3177311180790536]\n",
            "+-----+--------------------+--------------------+----------+--------------------+\n",
            "|label|            features|       rawPrediction|prediction|         probability|\n",
            "+-----+--------------------+--------------------+----------+--------------------+\n",
            "|  0.0|[0.18571428571428...|[2.17740103643224...|       0.0|[0.89820168058575...|\n",
            "|  0.0|[0.55714285714285...|[0.40776777411000...|       0.0|[0.60055251237116...|\n",
            "|  1.0|[0.28571428571428...|[-0.1331764630573...|       1.0|[0.46675500573649...|\n",
            "|  0.0|[0.21428571428571...|[-0.3765752879637...|       1.0|[0.40695316079295...|\n",
            "|  0.0|[0.21428571428571...|[0.76273691548322...|       0.0|[0.68194765260048...|\n",
            "|  0.0|[0.65714285714285...|[2.38724264879568...|       0.0|[0.91584930434580...|\n",
            "|  1.0|[0.52857142857142...|[0.45517406014952...|       0.0|[0.61186870654948...|\n",
            "|  0.0|[0.2,0.0141584086...|[-0.5432781447775...|       1.0|[0.36742533229106...|\n",
            "|  0.0|[0.31428571428571...|[-0.2143922423307...|       1.0|[0.44660629873881...|\n",
            "|  0.0|[0.32857142857142...|[0.51544201715069...|       0.0|[0.62608134129206...|\n",
            "+-----+--------------------+--------------------+----------+--------------------+\n",
            "only showing top 10 rows\n",
            "\n",
            "Test Area Under ROC 0.8212158086873712\n"
          ],
          "name": "stdout"
        }
      ]
    },
    {
      "cell_type": "markdown",
      "metadata": {
        "colab_type": "text",
        "id": "evM5eiJoDHw2"
      },
      "source": [
        "##Decision tree"
      ]
    },
    {
      "cell_type": "code",
      "metadata": {
        "colab_type": "code",
        "id": "He4mlHb7hBoY",
        "colab": {
          "base_uri": "https://localhost:8080/",
          "height": 326
        },
        "outputId": "6632c2fa-15d0-4b9b-bd8d-061ac1131df3"
      },
      "source": [
        "#Decision tree\n",
        "from pyspark.ml.classification import DecisionTreeClassifier\n",
        "dec_tree = DecisionTreeClassifier(featuresCol = 'features', labelCol = 'label', maxDepth = 3)\n",
        "dectreemodel = dec_tree.fit(train)\n",
        "predictions_b = dectreemodel.transform(test)\n",
        "predictions_b.select('label', 'features', 'rawPrediction', 'prediction', 'probability').show(8)\n",
        "Decision_T_evaluator = BinaryClassificationEvaluator()\n",
        "print(\"Test Area Under ROC: \" + str(Decision_T_evaluator.evaluate(predictions, {Decision_T_evaluator.metricName: \"areaUnderROC\"})))"
      ],
      "execution_count": null,
      "outputs": [
        {
          "output_type": "stream",
          "text": [
            "+-----+--------------------+-------------+----------+--------------------+\n",
            "|label|            features|rawPrediction|prediction|         probability|\n",
            "+-----+--------------------+-------------+----------+--------------------+\n",
            "|  0.0|[0.18571428571428...| [632.0,64.0]|       0.0|[0.90804597701149...|\n",
            "|  0.0|[0.55714285714285...|[220.0,110.0]|       0.0|[0.66666666666666...|\n",
            "|  1.0|[0.28571428571428...|[162.0,290.0]|       1.0|[0.35840707964601...|\n",
            "|  0.0|[0.21428571428571...|[162.0,290.0]|       1.0|[0.35840707964601...|\n",
            "|  0.0|[0.21428571428571...|[220.0,110.0]|       0.0|[0.66666666666666...|\n",
            "|  0.0|[0.65714285714285...| [632.0,64.0]|       0.0|[0.90804597701149...|\n",
            "|  1.0|[0.52857142857142...|[220.0,110.0]|       0.0|[0.66666666666666...|\n",
            "|  0.0|[0.2,0.0141584086...|[162.0,290.0]|       1.0|[0.35840707964601...|\n",
            "|  0.0|[0.31428571428571...|[162.0,290.0]|       1.0|[0.35840707964601...|\n",
            "|  0.0|[0.32857142857142...| [632.0,64.0]|       0.0|[0.90804597701149...|\n",
            "+-----+--------------------+-------------+----------+--------------------+\n",
            "only showing top 10 rows\n",
            "\n",
            "Test Area Under ROC: 0.7763822019998943\n"
          ],
          "name": "stdout"
        }
      ]
    },
    {
      "cell_type": "markdown",
      "metadata": {
        "colab_type": "text",
        "id": "CaE-Z_IlDKXF"
      },
      "source": [
        "#NaiveBayes"
      ]
    },
    {
      "cell_type": "code",
      "metadata": {
        "colab_type": "code",
        "id": "v2XL6I0t7irt",
        "colab": {
          "base_uri": "https://localhost:8080/",
          "height": 345
        },
        "outputId": "122b92be-0705-4b25-e0b3-da5c9de3d357"
      },
      "source": [
        "#NaiveBayes\n",
        "from pyspark.ml.classification import NaiveBayes\n",
        "from pyspark.ml.evaluation import MulticlassClassificationEvaluator\n",
        "\n",
        "bayes = NaiveBayes(featuresCol = 'features', labelCol = 'label')\n",
        "\n",
        "bayesmodel = bayes.fit(train)\n",
        "\n",
        "bayesPredictions = bayesmodel.transform(test)\n",
        "\n",
        "bayesPredictions.select('label', 'features', 'rawPrediction', 'prediction', 'probability').show(8)\n",
        "\n",
        "Naive_evaluator = BinaryClassificationEvaluator()\n",
        "evaluator = MulticlassClassificationEvaluator()\n",
        "ROC_accuracy =Naive_evaluator.evaluate(bayesPredictions)\n",
        "acc = evaluator.evaluate(bayesPredictions)\n",
        "print(\"Test set under ROC = \" + str(ROC_accuracy))\n",
        "print(\"Test set accuracy = \" + str(acc))"
      ],
      "execution_count": null,
      "outputs": [
        {
          "output_type": "stream",
          "text": [
            "+-----+--------------------+--------------------+----------+--------------------+\n",
            "|label|            features|       rawPrediction|prediction|         probability|\n",
            "+-----+--------------------+--------------------+----------+--------------------+\n",
            "|  0.0|[0.18571428571428...|[-14.783775233728...|       0.0|[0.84410063258126...|\n",
            "|  0.0|[0.55714285714285...|[-19.048538920690...|       0.0|[0.74878757430767...|\n",
            "|  1.0|[0.28571428571428...|[-18.398229673645...|       0.0|[0.58751182730099...|\n",
            "|  0.0|[0.21428571428571...|[-17.990454520573...|       1.0|[0.41573954066616...|\n",
            "|  0.0|[0.21428571428571...|[-19.611940391948...|       0.0|[0.82906266777012...|\n",
            "|  0.0|[0.65714285714285...|[-20.015253792344...|       0.0|[0.93162729210364...|\n",
            "|  1.0|[0.52857142857142...|[-21.444464827817...|       0.0|[0.82524335053180...|\n",
            "|  0.0|[0.2,0.0141584086...|[-17.615862065040...|       1.0|[0.30220553421147...|\n",
            "|  0.0|[0.31428571428571...|[-18.585433793006...|       0.0|[0.58310791765286...|\n",
            "|  0.0|[0.32857142857142...|[-13.053061782113...|       0.0|[0.57554748374765...|\n",
            "+-----+--------------------+--------------------+----------+--------------------+\n",
            "only showing top 10 rows\n",
            "\n",
            "Test set under ROC = 0.554425691762341\n",
            "Test set accuracy = 0.74164976450646\n"
          ],
          "name": "stdout"
        }
      ]
    }
  ]
}